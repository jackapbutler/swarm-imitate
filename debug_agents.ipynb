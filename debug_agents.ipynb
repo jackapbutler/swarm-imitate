{
 "cells": [
  {
   "cell_type": "code",
   "execution_count": null,
   "metadata": {},
   "outputs": [],
   "source": [
    "import functools\n",
    "import numpy as np\n",
    "import matplotlib.pyplot as plt\n",
    "import matplotlib.ticker as tkr\n",
    "from mpl_toolkits.mplot3d import Axes3D"
   ]
  },
  {
   "cell_type": "code",
   "execution_count": null,
   "metadata": {},
   "outputs": [],
   "source": [
    "from swarmi.operators import (\n",
    "    prodop,\n",
    "    NeuralNetOp,\n",
    "    average\n",
    ")\n",
    "from swarmi.net import normalise"
   ]
  },
  {
   "cell_type": "code",
   "execution_count": null,
   "metadata": {},
   "outputs": [],
   "source": [
    "BASE_POLICIES = {\n",
    "    \"Avg\": average,\n",
    "    \"LogOp\": prodop,\n",
    "    \"SLogOp\": functools.partial(prodop, normalise_w=True),\n",
    "    \"ProdOp\": functools.partial(prodop, set_w_to_one=True),\n",
    "    \"SProdOp\": functools.partial(prodop, set_w_to_one=True, normalise_w=True),\n",
    "}\n",
    "NN_POLICIES = {\n",
    "    'Imitation NN': NeuralNetOp(\"./models/imitated_logop_10k_100e_150width_2maxagents.pt\"),\n",
    "    'General RL + Imitation NN': NeuralNetOp('./models/rl_test_classic_n3_p2_1m'),\n",
    "    'Specific RL + Imitation NN': NeuralNetOp('./models/rl_test_classic_n3_p2_morenoise'),\n",
    "    'yo': NeuralNetOp('./models/rl_test_classic_test')\n",
    "}\n",
    "ALL_POLICIES = BASE_POLICIES|NN_POLICIES"
   ]
  },
  {
   "cell_type": "code",
   "execution_count": null,
   "metadata": {},
   "outputs": [],
   "source": [
    "chosen_policy = 'yo'\n",
    "\n",
    "policy = ALL_POLICIES[chosen_policy]\n",
    "if hasattr(policy, 'net'):\n",
    "    policy.net.debug = False\n",
    "\n",
    "GRID_DIM = 20\n",
    "evidence = [1,1,1]\n",
    "ys = zs = np.linspace(0,1,GRID_DIM)\n",
    "values = [0,0.25,0.5,0.75,1]\n",
    "\n",
    "grid_scores = []\n",
    "for i, x in enumerate(values):\n",
    "    grid_scores.append([])\n",
    "    for j, y in enumerate(ys):\n",
    "        grid_scores[i].append([])\n",
    "        for z in zs:\n",
    "            # need to normalise first\n",
    "            w1_mass = evidence[1]+y\n",
    "            w2_mass = evidence[2]+z\n",
    "            inputs_to_model =  [[evidence[0], evidence[1], evidence[1]/w1_mass, evidence[2], evidence[2]/w2_mass], [x, y, y/w1_mass, z, z/w2_mass]]\n",
    "            if 'Imitation' in chosen_policy:\n",
    "                inputs_to_model = [[normalise(x) for x in b] for b in inputs_to_model]\n",
    "            scalar = policy(inputs_to_model)\n",
    "            grid_scores[i][j].append(scalar)\n",
    "\n",
    "fig = plt.figure(figsize=(15, 10))\n",
    "ax = fig.add_subplot(111, projection='3d')\n",
    "\n",
    "grid_scores = np.array(grid_scores)\n",
    "xs_3d, ys_3d, zs_3d = np.meshgrid(values, ys, zs)\n",
    "scatter = ax.scatter(xs_3d.flatten(), ys_3d.flatten(), zs_3d.flatten(), c=grid_scores.flatten(), cmap='viridis', vmin=0, vmax=1)\n",
    "cbar = plt.colorbar(scatter)\n",
    "cbar.set_label('Pooled Belief')\n",
    "\n",
    "ax.set_ylabel('$X_{belief}$')\n",
    "ax.set_xlabel('$P_{location}$')\n",
    "ax.set_zlabel('$P_{truth}$')\n",
    "print('Min / Max: ', [round(max(grid_scores.flatten()), 2), round(min(grid_scores.flatten()), 2)])\n",
    "ax.set_title(f'Outputs when using {chosen_policy=} with {evidence=}')\n",
    "plt.show()"
   ]
  },
  {
   "cell_type": "code",
   "execution_count": null,
   "metadata": {},
   "outputs": [],
   "source": [
    "def num_fmt(x, pos):\n",
    "    return \"{}\".format(x / GRID_DIM)\n",
    "\n",
    "for i, x in enumerate(values):\n",
    "    grid_cut = grid_scores[i]\n",
    "    fig, ax = plt.subplots()\n",
    "    img = ax.imshow(grid_cut, cmap='viridis')\n",
    "    yfmt = tkr.FuncFormatter(num_fmt)\n",
    "    ax.yaxis.set_major_formatter(yfmt)\n",
    "    ax.xaxis.set_major_formatter(yfmt)\n",
    "    ax.set_title(f\"Output with {x=} and {evidence=}\")\n",
    "    ax.set_ylabel(\"$P_{location}$\")\n",
    "    ax.set_xlabel(\"$P_{truth}$\")\n",
    "    fig.colorbar(img)\n",
    "    plt.show()"
   ]
  },
  {
   "cell_type": "code",
   "execution_count": null,
   "metadata": {},
   "outputs": [],
   "source": [
    "heatmaps = {}\n",
    "const = .5\n",
    "grid = np.linspace(0,1, GRID_DIM)\n",
    "\n",
    "for p, policy in ALL_POLICIES.items():\n",
    "    ys = []\n",
    "    for i, x in enumerate(grid):\n",
    "        ys.append([])\n",
    "        for y in grid:\n",
    "            inputs = [[x, const], [y, const]]\n",
    "            if 'Imitation' in p or 'yo' in p:\n",
    "                filler = [normalise(const)]*4\n",
    "                inputs = [[normalise(x)]+filler, [normalise(y)]+filler]\n",
    "            out = policy(inputs)\n",
    "            ys[i].append(out)\n",
    "    heatmaps[p] = ys"
   ]
  },
  {
   "cell_type": "code",
   "execution_count": null,
   "metadata": {},
   "outputs": [],
   "source": [
    "for p, ys in heatmaps.items():\n",
    "    fig, ax = plt.subplots()\n",
    "    ax.figure.set_figwidth(7)\n",
    "    ax.figure.set_figheight(7)\n",
    "    img = ax.imshow(ys, cmap='viridis', clim=(0,1))\n",
    "    yfmt = tkr.FuncFormatter(num_fmt)\n",
    "    ax.yaxis.set_major_formatter(yfmt)\n",
    "    ax.xaxis.set_major_formatter(yfmt)\n",
    "    ax.set_title(f\"{p} \\n equal confidence - $X_{1}$ & $X_{2}$ - max / min: {round(max(np.array(ys).flatten()), 2)} / {round(min(np.array(ys).flatten()), 2)}\")\n",
    "    # ax.set_ylabel(\"$X_{1}$\")\n",
    "    # ax.set_xlabel(\"$X_{2}$\")\n",
    "    # fig.colorbar(img)\n",
    "    plt.show()"
   ]
  },
  {
   "cell_type": "code",
   "execution_count": null,
   "metadata": {},
   "outputs": [],
   "source": [
    "heatmaps = {}\n",
    "const_1 = .25\n",
    "const_2 = 0.75\n",
    "delta = 1e-10\n",
    "grid = np.linspace(delta,1-delta, GRID_DIM)\n",
    "\n",
    "for p, policy in ALL_POLICIES.items():\n",
    "    ys = []\n",
    "    for i, x in enumerate(grid):\n",
    "        ys.append([])\n",
    "        for y in grid:\n",
    "            inputs = [[const_1, x], [const_2, y]]\n",
    "            if 'Imitation' in p or 'yo' in p:\n",
    "                w_sum = x+y\n",
    "                inputs = [[const_1, x, x/w_sum, 0.50, 0.50], [const_2, y, y/w_sum, 0.50, 0.50]]\n",
    "                inputs = [[normalise(k) for k in b] for b in inputs]\n",
    "            out = policy(inputs)\n",
    "            ys[i].append(out)\n",
    "    heatmaps[p] = ys"
   ]
  },
  {
   "cell_type": "code",
   "execution_count": null,
   "metadata": {},
   "outputs": [],
   "source": [
    "for p, ys in heatmaps.items():\n",
    "    fig, ax = plt.subplots()\n",
    "    ax.figure.set_figwidth(7)\n",
    "    ax.figure.set_figheight(7)\n",
    "    img = ax.imshow(ys, cmap='viridis', clim=(0,1))\n",
    "    yfmt = tkr.FuncFormatter(num_fmt)\n",
    "    ax.yaxis.set_major_formatter(yfmt)\n",
    "    ax.xaxis.set_major_formatter(yfmt)\n",
    "    ax.set_title(f\"{p} \\n $X_1={const_1}$, $X_2={const_2}$, max / min: {round(max(np.array(ys).flatten()), 2)} / {round(min(np.array(ys).flatten()), 2)}\")\n",
    "    ax.set_ylabel(\"$w^1_{location}$\")\n",
    "    ax.set_xlabel(\"$w^2_{location}$\")\n",
    "    fig.colorbar(img)\n",
    "    plt.show()"
   ]
  },
  {
   "cell_type": "code",
   "execution_count": null,
   "metadata": {},
   "outputs": [],
   "source": [
    "heatmaps = {}\n",
    "const_1 = .25\n",
    "const_2 = 0.75\n",
    "delta = 1e-10\n",
    "grid = np.linspace(delta,1-delta, GRID_DIM)\n",
    "\n",
    "for p, policy in ALL_POLICIES.items():\n",
    "    ys = []\n",
    "    for i, x in enumerate(grid):\n",
    "        ys.append([])\n",
    "        for y in grid:\n",
    "            inputs = [[const_1, x], [const_2, y]]\n",
    "            if 'Imitation' in p or 'yo' in p:\n",
    "                w_sum = x+y\n",
    "                inputs = [[const_1, 0.50, 0.50, x, x/w_sum], [const_2, 0.50, 0.50, y, y/w_sum]]\n",
    "                inputs = [[normalise(k) for k in b] for b in inputs]\n",
    "            out = policy(inputs)\n",
    "            ys[i].append(out)\n",
    "    heatmaps[p] = ys"
   ]
  },
  {
   "cell_type": "code",
   "execution_count": null,
   "metadata": {},
   "outputs": [],
   "source": [
    "for p, ys in heatmaps.items():\n",
    "    fig, ax = plt.subplots()\n",
    "    ax.figure.set_figwidth(7)\n",
    "    ax.figure.set_figheight(7)\n",
    "    img = ax.imshow(ys, cmap='viridis', clim=(0,1))\n",
    "    yfmt = tkr.FuncFormatter(num_fmt)\n",
    "    ax.yaxis.set_major_formatter(yfmt)\n",
    "    ax.xaxis.set_major_formatter(yfmt)\n",
    "    ax.set_title(f\"{p} \\n $X_1={const_1}$, $X_2={const_2}$, max / min: {round(max(np.array(ys).flatten()), 2)} / {round(min(np.array(ys).flatten()), 2)}\")\n",
    "    ax.set_ylabel(\"$w^{1}_{truth}$\")\n",
    "    ax.set_xlabel(\"$w^{2}_{truth}$\")\n",
    "    fig.colorbar(img)\n",
    "    plt.show()"
   ]
  }
 ],
 "metadata": {
  "kernelspec": {
   "display_name": "swarm",
   "language": "python",
   "name": "python3"
  },
  "language_info": {
   "codemirror_mode": {
    "name": "ipython",
    "version": 3
   },
   "file_extension": ".py",
   "mimetype": "text/x-python",
   "name": "python",
   "nbconvert_exporter": "python",
   "pygments_lexer": "ipython3",
   "version": "3.10.12"
  }
 },
 "nbformat": 4,
 "nbformat_minor": 2
}
